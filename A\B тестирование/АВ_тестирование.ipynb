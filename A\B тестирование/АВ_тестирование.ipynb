{
 "cells": [
  {
   "cell_type": "markdown",
   "id": "c8a6af25-08d3-487a-bd90-001772ac9161",
   "metadata": {},
   "source": [
    "## <center> **Анализ результатов A/B-тестирования**"
   ]
  },
  {
   "cell_type": "markdown",
   "id": "d7d45571-6545-4904-a86b-9b3b6b8163d3",
   "metadata": {},
   "source": [
    "Описание кейса: Компания планирует запустить новую акцию, чтобы продать как можно больше туров. Команда разработала два варианта посадочной страницы официального сайта компании и провела A/B-тестирование. \n",
    "\n",
    "Данные: Собранные в результате проведения эксперимента данные находятся в файле ab_data_tourist.csv\n",
    "\n",
    "Бизнес-задача: проанализировать эффективность обоих вариантов посадочной страницы сразу по двум критериям: конверсии покупки и среднему чеку. На основе проведенного анализа сделать выводы и принять решение: какой из вариантов дизайна более предпочтительный.\n",
    "\n",
    "Итак, фирма предлагает следующие варианты туров и их соответствующие стоимости:\n",
    "* Таиланд — 100000 рублей;\n",
    "* Турция — 60000 рублей;\n",
    "* Мальдивы — 200000 рублей;\n",
    "* Санкт-Петербург — 10000 рублей;\n",
    "* Камчатка — 150000 рублей."
   ]
  },
  {
   "cell_type": "code",
   "execution_count": 1,
   "id": "a974b482-e192-4014-8520-8a5c0c946da6",
   "metadata": {},
   "outputs": [],
   "source": [
    "import pandas as pd\n",
    "import matplotlib.pyplot as plt\n",
    "import seaborn as sns\n",
    "import numpy as np\n",
    "from scipy.stats import norm\n",
    "from scipy.stats import t\n",
    "from scipy.stats import ttest_ind, shapiro, f_oneway, mannwhitneyu\n",
    "from statsmodels.stats.proportion import proportions_ztest"
   ]
  },
  {
   "cell_type": "markdown",
   "id": "55c84550-4162-4325-acc2-7d3c0aafe6f0",
   "metadata": {},
   "source": [
    "Прочитаем наши данные и посмотрим на столбцы таблицы:"
   ]
  },
  {
   "cell_type": "code",
   "execution_count": 2,
   "id": "b0d18245-b9da-44bd-8aea-d272ea74b63a",
   "metadata": {},
   "outputs": [
    {
     "data": {
      "text/html": [
       "<div>\n",
       "<style scoped>\n",
       "    .dataframe tbody tr th:only-of-type {\n",
       "        vertical-align: middle;\n",
       "    }\n",
       "\n",
       "    .dataframe tbody tr th {\n",
       "        vertical-align: top;\n",
       "    }\n",
       "\n",
       "    .dataframe thead th {\n",
       "        text-align: right;\n",
       "    }\n",
       "</style>\n",
       "<table border=\"1\" class=\"dataframe\">\n",
       "  <thead>\n",
       "    <tr style=\"text-align: right;\">\n",
       "      <th></th>\n",
       "      <th>user_id</th>\n",
       "      <th>date</th>\n",
       "      <th>group</th>\n",
       "      <th>purchase</th>\n",
       "      <th>price</th>\n",
       "    </tr>\n",
       "  </thead>\n",
       "  <tbody>\n",
       "    <tr>\n",
       "      <th>0</th>\n",
       "      <td>851104</td>\n",
       "      <td>2021-01-21</td>\n",
       "      <td>A</td>\n",
       "      <td>0</td>\n",
       "      <td>0</td>\n",
       "    </tr>\n",
       "    <tr>\n",
       "      <th>1</th>\n",
       "      <td>804228</td>\n",
       "      <td>2021-01-12</td>\n",
       "      <td>A</td>\n",
       "      <td>0</td>\n",
       "      <td>0</td>\n",
       "    </tr>\n",
       "    <tr>\n",
       "      <th>2</th>\n",
       "      <td>661590</td>\n",
       "      <td>2021-01-11</td>\n",
       "      <td>B</td>\n",
       "      <td>0</td>\n",
       "      <td>0</td>\n",
       "    </tr>\n",
       "    <tr>\n",
       "      <th>3</th>\n",
       "      <td>853541</td>\n",
       "      <td>2021-01-08</td>\n",
       "      <td>B</td>\n",
       "      <td>0</td>\n",
       "      <td>0</td>\n",
       "    </tr>\n",
       "    <tr>\n",
       "      <th>4</th>\n",
       "      <td>864975</td>\n",
       "      <td>2021-01-21</td>\n",
       "      <td>A</td>\n",
       "      <td>1</td>\n",
       "      <td>150000</td>\n",
       "    </tr>\n",
       "  </tbody>\n",
       "</table>\n",
       "</div>"
      ],
      "text/plain": [
       "   user_id        date group  purchase   price\n",
       "0   851104  2021-01-21     A         0       0\n",
       "1   804228  2021-01-12     A         0       0\n",
       "2   661590  2021-01-11     B         0       0\n",
       "3   853541  2021-01-08     B         0       0\n",
       "4   864975  2021-01-21     A         1  150000"
      ]
     },
     "execution_count": 2,
     "metadata": {},
     "output_type": "execute_result"
    }
   ],
   "source": [
    "data = pd.read_csv('ab_data_tourist.csv')\n",
    "data.head()"
   ]
  },
  {
   "cell_type": "markdown",
   "id": "2fc48225-26ac-49c4-b99d-8b2a03dd74a1",
   "metadata": {
    "tags": []
   },
   "source": [
    "## **Исследование струтуры данных**\n",
    "\n",
    "Выводим информацию о типах данных и количестве непустых значений. \n",
    "Выясняем, какой тип данных имеет столбец date?"
   ]
  },
  {
   "cell_type": "code",
   "execution_count": 3,
   "id": "23496521-4878-46e2-ab02-1a98be14884a",
   "metadata": {},
   "outputs": [
    {
     "name": "stdout",
     "output_type": "stream",
     "text": [
      "<class 'pandas.core.frame.DataFrame'>\n",
      "RangeIndex: 294478 entries, 0 to 294477\n",
      "Data columns (total 5 columns):\n",
      " #   Column    Non-Null Count   Dtype \n",
      "---  ------    --------------   ----- \n",
      " 0   user_id   294478 non-null  int64 \n",
      " 1   date      294478 non-null  object\n",
      " 2   group     294478 non-null  object\n",
      " 3   purchase  294478 non-null  int64 \n",
      " 4   price     294478 non-null  int64 \n",
      "dtypes: int64(3), object(2)\n",
      "memory usage: 11.2+ MB\n"
     ]
    }
   ],
   "source": [
    "data.info()"
   ]
  },
  {
   "cell_type": "markdown",
   "id": "47a4177a",
   "metadata": {},
   "source": [
    "Вывод: Пустых значений нет. Столбец date имеет тип данных object."
   ]
  },
  {
   "cell_type": "markdown",
   "id": "946d017d-b4fe-4a17-b91d-0ce369d1ab2e",
   "metadata": {
    "tags": []
   },
   "source": [
    "### **Оценим длительность проведения тестирования для каждой из группы.**\n",
    "\n",
    "В какой промежуток времени проводился A/B-тест?\n",
    "Равны ли эти периоды для каждой из групп?"
   ]
  },
  {
   "cell_type": "code",
   "execution_count": 352,
   "id": "604c619d-6338-45c8-8248-ac098a2366bb",
   "metadata": {},
   "outputs": [],
   "source": [
    "#приводим столбец date к типу данных datetime и нужному формату\n",
    "data['date'] = pd.to_datetime(data['date'], format = '%Y-%m-%d')"
   ]
  },
  {
   "cell_type": "code",
   "execution_count": 6,
   "id": "03bb6041",
   "metadata": {},
   "outputs": [
    {
     "name": "stdout",
     "output_type": "stream",
     "text": [
      "Начало периода сбора данных \n",
      "group\n",
      "A    2021-01-02\n",
      "B    2021-01-02\n",
      "Name: date, dtype: object\n",
      "Окончание периода сбора данных \n",
      "group\n",
      "A    2021-01-24\n",
      "B    2021-01-24\n",
      "Name: date, dtype: object\n"
     ]
    }
   ],
   "source": [
    "#группируем данные по признаку группы и определяем первую и последнюю дату наблюдения для каждой из групп\n",
    "data_group_min = data.groupby(['group'])['date'].min()\n",
    "data_group_max = data.groupby(['group'])['date'].max()\n",
    "print(f'Начало периода сбора данных \\n{data_group_min}')\n",
    "print(f'Окончание периода сбора данных \\n{data_group_max}')"
   ]
  },
  {
   "cell_type": "markdown",
   "id": "b0e03fd0",
   "metadata": {},
   "source": [
    "Вывод: А/В тест проводился в период со 2 по 24 января 2021 в обеих группах."
   ]
  },
  {
   "cell_type": "markdown",
   "id": "e04eb341-52ae-48b3-9dc2-0578ca91641a",
   "metadata": {},
   "source": [
    "### **Определим основные показатели**\n",
    "\n",
    "Количество посещений сайта в группах А и B.\n",
    "Суммарное количество покупок в группах А и B.\n",
    "Сумма всех покупок в группах А и B."
   ]
  },
  {
   "cell_type": "code",
   "execution_count": 15,
   "id": "02bf0148-488e-4f34-95bf-37794b2fa98b",
   "metadata": {},
   "outputs": [
    {
     "name": "stdout",
     "output_type": "stream",
     "text": [
      "Количество посещений сайта в группах \n",
      "group\n",
      "A    147202\n",
      "B    147276\n",
      "Name: user_id, dtype: int64\n",
      "Cуммарное количество покупок в группах \n",
      "group\n",
      "A    17723\n",
      "B    17514\n",
      "Name: purchase, dtype: int64\n",
      "Cумма всех покупок в группах(млн.руб) \n",
      "group\n",
      "A    1436.26\n",
      "B    1554.10\n",
      "Name: price, dtype: float64\n"
     ]
    }
   ],
   "source": [
    "#количество посещений сайта в группах А и B\n",
    "visit_count = data.groupby(['group'])['user_id'].count()\n",
    "print(f'Количество посещений сайта в группах \\n{visit_count}')\n",
    "#суммарное количество покупок в группах А и B\n",
    "purchase_count = data.groupby(['group'])['purchase'].sum()\n",
    "print(f'Cуммарное количество покупок в группах \\n{purchase_count}')\n",
    "#сумма всех покупок в группах А и B\n",
    "price_count = data.groupby(['group'])['price'].sum()\n",
    "print(f'Cумма всех покупок в группах(млн.руб) \\n{price_count/1000000}')\n"
   ]
  },
  {
   "cell_type": "markdown",
   "id": "2434db1b-17e6-4977-8e54-1df875c6f221",
   "metadata": {
    "tags": []
   },
   "source": [
    "### **Оценим и исключим пересечения данных в группах**\n",
    "\n",
    "Проверим, есть ли пользователи и сколько, которые в процессе A/B-теста попали в обе тестовые группы? "
   ]
  },
  {
   "cell_type": "code",
   "execution_count": 16,
   "id": "57a2d711-057d-4f8b-9f56-df0f772d41c8",
   "metadata": {},
   "outputs": [
    {
     "name": "stdout",
     "output_type": "stream",
     "text": [
      "Количество уникальных пользователей в группе A: 146195\n",
      "Количество уникальных пользователей в группе В: 146284\n",
      "Количество пользователей, попавших в обе группы: 1895\n"
     ]
    }
   ],
   "source": [
    "mask = data['group'] == 'A'\n",
    "#создаем множество пользователей группы А\n",
    "set_a = set(data[mask]['user_id'])\n",
    "mask1 = data['group'] == 'B'\n",
    "#cоздаём множество пользователей группы B\n",
    "set_b = set(data[mask1]['user_id'])\n",
    "#Пересекаем два этих множества, создаем множество пересечений пользователей групп А и B\n",
    "set_intersection = set_a.intersection(set_b)\n",
    "#вычисляем количество элементов в полученном множестве\n",
    "print(f'Количество уникальных пользователей в группе A: {len(set_a)}')\n",
    "print(f'Количество уникальных пользователей в группе В: {len(set_b)}')\n",
    "print(f'Количество пользователей, попавших в обе группы: {len(set_intersection)}')\n"
   ]
  },
  {
   "cell_type": "code",
   "execution_count": 18,
   "id": "f618b34b-35a3-4bf1-8d6d-38b3401930b7",
   "metadata": {},
   "outputs": [],
   "source": [
    "#так как мы не можем определить, какая из версий сайта повлияла на принятие решения, исключим этих пользователей \n",
    "updated_data = data[data['user_id'].apply(lambda x: x not in set_intersection)]"
   ]
  },
  {
   "cell_type": "code",
   "execution_count": 19,
   "id": "58770576",
   "metadata": {},
   "outputs": [
    {
     "data": {
      "text/html": [
       "<div>\n",
       "<style scoped>\n",
       "    .dataframe tbody tr th:only-of-type {\n",
       "        vertical-align: middle;\n",
       "    }\n",
       "\n",
       "    .dataframe tbody tr th {\n",
       "        vertical-align: top;\n",
       "    }\n",
       "\n",
       "    .dataframe thead th {\n",
       "        text-align: right;\n",
       "    }\n",
       "</style>\n",
       "<table border=\"1\" class=\"dataframe\">\n",
       "  <thead>\n",
       "    <tr style=\"text-align: right;\">\n",
       "      <th></th>\n",
       "      <th>user_id</th>\n",
       "      <th>date</th>\n",
       "      <th>group</th>\n",
       "      <th>purchase</th>\n",
       "      <th>price</th>\n",
       "    </tr>\n",
       "  </thead>\n",
       "  <tbody>\n",
       "    <tr>\n",
       "      <th>0</th>\n",
       "      <td>851104</td>\n",
       "      <td>2021-01-21</td>\n",
       "      <td>A</td>\n",
       "      <td>0</td>\n",
       "      <td>0</td>\n",
       "    </tr>\n",
       "    <tr>\n",
       "      <th>1</th>\n",
       "      <td>804228</td>\n",
       "      <td>2021-01-12</td>\n",
       "      <td>A</td>\n",
       "      <td>0</td>\n",
       "      <td>0</td>\n",
       "    </tr>\n",
       "    <tr>\n",
       "      <th>2</th>\n",
       "      <td>661590</td>\n",
       "      <td>2021-01-11</td>\n",
       "      <td>B</td>\n",
       "      <td>0</td>\n",
       "      <td>0</td>\n",
       "    </tr>\n",
       "    <tr>\n",
       "      <th>3</th>\n",
       "      <td>853541</td>\n",
       "      <td>2021-01-08</td>\n",
       "      <td>B</td>\n",
       "      <td>0</td>\n",
       "      <td>0</td>\n",
       "    </tr>\n",
       "    <tr>\n",
       "      <th>4</th>\n",
       "      <td>864975</td>\n",
       "      <td>2021-01-21</td>\n",
       "      <td>A</td>\n",
       "      <td>1</td>\n",
       "      <td>150000</td>\n",
       "    </tr>\n",
       "  </tbody>\n",
       "</table>\n",
       "</div>"
      ],
      "text/plain": [
       "   user_id        date group  purchase   price\n",
       "0   851104  2021-01-21     A         0       0\n",
       "1   804228  2021-01-12     A         0       0\n",
       "2   661590  2021-01-11     B         0       0\n",
       "3   853541  2021-01-08     B         0       0\n",
       "4   864975  2021-01-21     A         1  150000"
      ]
     },
     "execution_count": 19,
     "metadata": {},
     "output_type": "execute_result"
    }
   ],
   "source": [
    "#далее мы будем работать только с очищенными от пересечений данными\n",
    "updated_data.head()"
   ]
  },
  {
   "attachments": {
    "95f235d2-6323-4799-bf69-697fc57f727b.png": {
     "image/png": "[encoded data removed]"
    }
   },
   "cell_type": "markdown",
   "id": "2ddf6b2c-7987-41f3-82b1-8992630ae97b",
   "metadata": {
    "tags": []
   },
   "source": [
    "### **Первичный анализ результатов A/B-тестирования**\n",
    "\n",
    "Для него нам понадобится таблица следующего вида:\n",
    "\n",
    "![image.png](attachment:95f235d2-6323-4799-bf69-697fc57f727b.png)"
   ]
  },
  {
   "cell_type": "code",
   "execution_count": 20,
   "id": "5c0c018e-a250-48e9-b72a-e3c7be586ebd",
   "metadata": {},
   "outputs": [
    {
     "name": "stdout",
     "output_type": "stream",
     "text": [
      "  group  count_visits  count_purchases   sum_price\n",
      "0     A        145307            17487  1417780000\n",
      "1     B        145381            17290  1533010000\n"
     ]
    }
   ],
   "source": [
    "#сгруппируем данные по признаку группы\n",
    "group_data = updated_data.groupby(['group']).agg({\n",
    "    #рассчитаем количество посещений (количество пользователей)\n",
    "    'user_id':'count',\n",
    "    #рассчитаем количество совершенных покупок\n",
    "    'purchase':'sum',\n",
    "    #сумма всех покупок в группе\n",
    "    'price':'sum'\n",
    "#в полученной сгруппированной таблице переименуем столбцы\n",
    "}).reset_index().rename(columns={'user_id': 'count_visits','purchase':'count_purchases','price':'sum_price'})\n",
    "print(group_data)"
   ]
  },
  {
   "cell_type": "markdown",
   "id": "4ea1b65b-475e-4bff-9460-fac0acdb9620",
   "metadata": {},
   "source": [
    "Вывод: Количество посещений обоих вариантов сопоставимо, т.к. отличается на несколько сотых долей процента. 00,05%(145387-145307)/145381*100 \n",
    "Выборки по количеству сбалансированны."
   ]
  },
  {
   "cell_type": "markdown",
   "id": "afb2ee0a-31d1-45a5-be42-a2bf168b9448",
   "metadata": {
    "tags": []
   },
   "source": [
    "### **Оценим группы по показателям конверсии и среднему чеку**\n",
    "\n",
    "- Конверсия покупки - отношение количества покупок к количеству посещений сайта в каждой группе, выраженное в процентах  \n",
    "- Средний чек - отношение суммы покупок к количеству покупок в каждой группе  "
   ]
  },
  {
   "cell_type": "code",
   "execution_count": 21,
   "id": "bd9c3b3e-5956-41a8-bae0-43693f6de1f2",
   "metadata": {},
   "outputs": [],
   "source": [
    "#добавим в таблицу столбец с показателем конверсии\n",
    "group_data['conversion'] = round((group_data['count_purchases']/group_data['count_visits']*100),2)\n",
    "#добавим в таблицу столбец со средним чеком\n",
    "group_data['mean_check'] = round(group_data['sum_price']/group_data['count_purchases'])"
   ]
  },
  {
   "cell_type": "code",
   "execution_count": 22,
   "id": "d2e7c393",
   "metadata": {},
   "outputs": [
    {
     "data": {
      "text/html": [
       "<div>\n",
       "<style scoped>\n",
       "    .dataframe tbody tr th:only-of-type {\n",
       "        vertical-align: middle;\n",
       "    }\n",
       "\n",
       "    .dataframe tbody tr th {\n",
       "        vertical-align: top;\n",
       "    }\n",
       "\n",
       "    .dataframe thead th {\n",
       "        text-align: right;\n",
       "    }\n",
       "</style>\n",
       "<table border=\"1\" class=\"dataframe\">\n",
       "  <thead>\n",
       "    <tr style=\"text-align: right;\">\n",
       "      <th></th>\n",
       "      <th>group</th>\n",
       "      <th>count_visits</th>\n",
       "      <th>count_purchases</th>\n",
       "      <th>sum_price</th>\n",
       "      <th>conversion</th>\n",
       "      <th>mean_check</th>\n",
       "    </tr>\n",
       "  </thead>\n",
       "  <tbody>\n",
       "    <tr>\n",
       "      <th>0</th>\n",
       "      <td>A</td>\n",
       "      <td>145307</td>\n",
       "      <td>17487</td>\n",
       "      <td>1417780000</td>\n",
       "      <td>12.03</td>\n",
       "      <td>81076.0</td>\n",
       "    </tr>\n",
       "    <tr>\n",
       "      <th>1</th>\n",
       "      <td>B</td>\n",
       "      <td>145381</td>\n",
       "      <td>17290</td>\n",
       "      <td>1533010000</td>\n",
       "      <td>11.89</td>\n",
       "      <td>88665.0</td>\n",
       "    </tr>\n",
       "  </tbody>\n",
       "</table>\n",
       "</div>"
      ],
      "text/plain": [
       "  group  count_visits  count_purchases   sum_price  conversion  mean_check\n",
       "0     A        145307            17487  1417780000       12.03     81076.0\n",
       "1     B        145381            17290  1533010000       11.89     88665.0"
      ]
     },
     "execution_count": 22,
     "metadata": {},
     "output_type": "execute_result"
    }
   ],
   "source": [
    "group_data.head()"
   ]
  },
  {
   "cell_type": "markdown",
   "id": "9e88c883-84f9-44ec-accd-04d5d459b261",
   "metadata": {},
   "source": [
    "Ответ: Вариант А более эффективен по абсолютному показателю суммарного количества покупок count_purchases и по относительному показателю конверсии покупки conversion.  \n",
    "Вариант В более эффективен в абсолюных цифрах по общему количеству посещений сайта count_visits и по сумме покупок sum_price, а также по относительному показателю среднего чека mean_check."
   ]
  },
  {
   "cell_type": "markdown",
   "id": "7f9f1ae0-f12f-49b3-8b57-1c299c208c49",
   "metadata": {
    "tags": []
   },
   "source": [
    "### **Сравним варианты по покупательской способности туров**"
   ]
  },
  {
   "cell_type": "code",
   "execution_count": 49,
   "id": "78d46a02-cc30-4783-9b18-9fc9c6a08012",
   "metadata": {},
   "outputs": [
    {
     "name": "stdout",
     "output_type": "stream",
     "text": [
      "price  0       10000   60000   100000  150000  200000\n",
      "group                                                \n",
      "A           0    5182    5271    1832    3478    1724\n",
      "B           0    5201    1730    5227    3438    1694\n"
     ]
    }
   ],
   "source": [
    "#построим сводную таблицу, которая покажет зависимость количества продаж от группы и цены тура\n",
    "table = pd.pivot_table(updated_data, values='purchase', index='group', columns='price', aggfunc=np.sum)\n",
    "print(table)"
   ]
  },
  {
   "cell_type": "code",
   "execution_count": 52,
   "id": "03a0e059",
   "metadata": {},
   "outputs": [
    {
     "data": {
      "image/png": "[encoded data removed]",
      "text/plain": [
       "<Figure size 1296x432 with 2 Axes>"
      ]
     },
     "metadata": {
      "needs_background": "light"
     },
     "output_type": "display_data"
    }
   ],
   "source": [
    "#визуализируем полученную сводную таблицу с помощью тепловой карты с аннотацией\n",
    "fig, (ax1) = plt.subplots(ncols=1, figsize=(18, 6))\n",
    "pivot_table = sns.heatmap(table/1000, fmt ='.4g', annot=True, ax=ax1, square=True);\n",
    "pivot_table.set_title('Зависимость количества продаж от группы и цены тура, тыс. штук', fontdict={'fontsize':20}, pad=12)\n",
    "pivot_table.set_xlabel(\"Цена тура\");\n",
    "pivot_table.set_ylabel(\"Группы\");\n"
   ]
  },
  {
   "cell_type": "markdown",
   "id": "6d13fd45-e3df-468f-9d32-1fc45d38b10c",
   "metadata": {},
   "source": [
    "Вывод: Исходя из построенной таблицы видно, что популярность туров стоимостью 10000, 150000, 200000 руб. в целом одинакова в обоих группах, они окрашены одинаково.  \n",
    "Имеются различия в популярности туров стоимостью 60000 и 100000 руб. первый более популярен в группе А, а второй в группе В."
   ]
  },
  {
   "cell_type": "markdown",
   "id": "8f021fb4-d0f6-4e43-b518-1a96c07a4531",
   "metadata": {
    "tags": []
   },
   "source": [
    "### **Cтабилиpуем кумулятивные метрики во времени**\n",
    "\n",
    "- Ежедневная конверсия = ежедневное количество покупок / ежедневное количество посещений в группе  \n",
    "\n",
    "- Ежедневный средний чек = ежедневная сумма покупок / ежедневное количество покупок"
   ]
  },
  {
   "cell_type": "code",
   "execution_count": 53,
   "id": "4503b528-412e-433a-bc03-da7da52fa1a3",
   "metadata": {},
   "outputs": [
    {
     "data": {
      "text/html": [
       "<div>\n",
       "<style scoped>\n",
       "    .dataframe tbody tr th:only-of-type {\n",
       "        vertical-align: middle;\n",
       "    }\n",
       "\n",
       "    .dataframe tbody tr th {\n",
       "        vertical-align: top;\n",
       "    }\n",
       "\n",
       "    .dataframe thead th {\n",
       "        text-align: right;\n",
       "    }\n",
       "</style>\n",
       "<table border=\"1\" class=\"dataframe\">\n",
       "  <thead>\n",
       "    <tr style=\"text-align: right;\">\n",
       "      <th></th>\n",
       "      <th>group</th>\n",
       "      <th>date</th>\n",
       "      <th>count_visits</th>\n",
       "      <th>count_purchases</th>\n",
       "      <th>sum_price</th>\n",
       "      <th>day_conv</th>\n",
       "      <th>day_mean_check</th>\n",
       "    </tr>\n",
       "  </thead>\n",
       "  <tbody>\n",
       "    <tr>\n",
       "      <th>0</th>\n",
       "      <td>A</td>\n",
       "      <td>2021-01-02</td>\n",
       "      <td>2854</td>\n",
       "      <td>359</td>\n",
       "      <td>29410000</td>\n",
       "      <td>0.125788</td>\n",
       "      <td>81922.005571</td>\n",
       "    </tr>\n",
       "    <tr>\n",
       "      <th>1</th>\n",
       "      <td>A</td>\n",
       "      <td>2021-01-03</td>\n",
       "      <td>6596</td>\n",
       "      <td>748</td>\n",
       "      <td>62000000</td>\n",
       "      <td>0.113402</td>\n",
       "      <td>82887.700535</td>\n",
       "    </tr>\n",
       "    <tr>\n",
       "      <th>2</th>\n",
       "      <td>A</td>\n",
       "      <td>2021-01-04</td>\n",
       "      <td>6566</td>\n",
       "      <td>799</td>\n",
       "      <td>64250000</td>\n",
       "      <td>0.121687</td>\n",
       "      <td>80413.016270</td>\n",
       "    </tr>\n",
       "    <tr>\n",
       "      <th>3</th>\n",
       "      <td>A</td>\n",
       "      <td>2021-01-05</td>\n",
       "      <td>6433</td>\n",
       "      <td>790</td>\n",
       "      <td>64550000</td>\n",
       "      <td>0.122804</td>\n",
       "      <td>81708.860759</td>\n",
       "    </tr>\n",
       "    <tr>\n",
       "      <th>4</th>\n",
       "      <td>A</td>\n",
       "      <td>2021-01-06</td>\n",
       "      <td>6606</td>\n",
       "      <td>764</td>\n",
       "      <td>63410000</td>\n",
       "      <td>0.115652</td>\n",
       "      <td>82997.382199</td>\n",
       "    </tr>\n",
       "  </tbody>\n",
       "</table>\n",
       "</div>"
      ],
      "text/plain": [
       "  group        date  count_visits  count_purchases  sum_price  day_conv  \\\n",
       "0     A  2021-01-02          2854              359   29410000  0.125788   \n",
       "1     A  2021-01-03          6596              748   62000000  0.113402   \n",
       "2     A  2021-01-04          6566              799   64250000  0.121687   \n",
       "3     A  2021-01-05          6433              790   64550000  0.122804   \n",
       "4     A  2021-01-06          6606              764   63410000  0.115652   \n",
       "\n",
       "   day_mean_check  \n",
       "0    81922.005571  \n",
       "1    82887.700535  \n",
       "2    80413.016270  \n",
       "3    81708.860759  \n",
       "4    82997.382199  "
      ]
     },
     "execution_count": 53,
     "metadata": {},
     "output_type": "execute_result"
    }
   ],
   "source": [
    "#построим таблицу с ежедневными данными результатов проведения A/B-тестирования\n",
    "#сгруппируем данные по дате и группе тестирования\n",
    "updated_data = updated_data.groupby(['group','date'], as_index=False).agg({\n",
    "    #в каждой группе вычислим количество посещений страницы\n",
    "    'user_id':'count',\n",
    "    #количество покупок\n",
    "    'purchase':'sum',\n",
    "    #сумму покупок\n",
    "    'price':'sum'\n",
    "}).rename(columns={'user_id': 'count_visits','purchase':'count_purchases','price':'sum_price'})\n",
    "#добавим в таблицу информацию о ежедневной конверсии в группе\n",
    "updated_data['day_conv'] = updated_data['count_purchases']/updated_data['count_visits']\n",
    "#добавим в таблицу информацию о ежедневном среднем чеке в группе\n",
    "updated_data['day_mean_check'] = updated_data['sum_price']/updated_data['count_purchases']\n",
    "updated_data.head()"
   ]
  },
  {
   "cell_type": "markdown",
   "id": "bc8e241b-1ef1-4f67-ab90-77251889b7f2",
   "metadata": {},
   "source": [
    "Добавляем в таблицу с ежедневными показателями кумулятивные признаки:\n",
    "* кумулятивное количество посещений страницы\n",
    "* кумулятивное количество покупок\n",
    "* кумулятивную сумму покупок\n",
    "\n",
    "При расчете кумулятивной суммы группируем данные по группам. "
   ]
  },
  {
   "cell_type": "code",
   "execution_count": 54,
   "id": "278479b2",
   "metadata": {},
   "outputs": [
    {
     "data": {
      "text/html": [
       "<div>\n",
       "<style scoped>\n",
       "    .dataframe tbody tr th:only-of-type {\n",
       "        vertical-align: middle;\n",
       "    }\n",
       "\n",
       "    .dataframe tbody tr th {\n",
       "        vertical-align: top;\n",
       "    }\n",
       "\n",
       "    .dataframe thead th {\n",
       "        text-align: right;\n",
       "    }\n",
       "</style>\n",
       "<table border=\"1\" class=\"dataframe\">\n",
       "  <thead>\n",
       "    <tr style=\"text-align: right;\">\n",
       "      <th></th>\n",
       "      <th>group</th>\n",
       "      <th>date</th>\n",
       "      <th>count_visits</th>\n",
       "      <th>count_purchases</th>\n",
       "      <th>sum_price</th>\n",
       "      <th>day_conv</th>\n",
       "      <th>day_mean_check</th>\n",
       "      <th>cum_users_count</th>\n",
       "      <th>cum_purchase_count</th>\n",
       "      <th>cum_price_count</th>\n",
       "    </tr>\n",
       "  </thead>\n",
       "  <tbody>\n",
       "    <tr>\n",
       "      <th>0</th>\n",
       "      <td>A</td>\n",
       "      <td>2021-01-02</td>\n",
       "      <td>2854</td>\n",
       "      <td>359</td>\n",
       "      <td>29410000</td>\n",
       "      <td>0.125788</td>\n",
       "      <td>81922.005571</td>\n",
       "      <td>2854</td>\n",
       "      <td>359</td>\n",
       "      <td>29410000</td>\n",
       "    </tr>\n",
       "    <tr>\n",
       "      <th>1</th>\n",
       "      <td>A</td>\n",
       "      <td>2021-01-03</td>\n",
       "      <td>6596</td>\n",
       "      <td>748</td>\n",
       "      <td>62000000</td>\n",
       "      <td>0.113402</td>\n",
       "      <td>82887.700535</td>\n",
       "      <td>9450</td>\n",
       "      <td>1107</td>\n",
       "      <td>91410000</td>\n",
       "    </tr>\n",
       "    <tr>\n",
       "      <th>2</th>\n",
       "      <td>A</td>\n",
       "      <td>2021-01-04</td>\n",
       "      <td>6566</td>\n",
       "      <td>799</td>\n",
       "      <td>64250000</td>\n",
       "      <td>0.121687</td>\n",
       "      <td>80413.016270</td>\n",
       "      <td>16016</td>\n",
       "      <td>1906</td>\n",
       "      <td>155660000</td>\n",
       "    </tr>\n",
       "    <tr>\n",
       "      <th>3</th>\n",
       "      <td>A</td>\n",
       "      <td>2021-01-05</td>\n",
       "      <td>6433</td>\n",
       "      <td>790</td>\n",
       "      <td>64550000</td>\n",
       "      <td>0.122804</td>\n",
       "      <td>81708.860759</td>\n",
       "      <td>22449</td>\n",
       "      <td>2696</td>\n",
       "      <td>220210000</td>\n",
       "    </tr>\n",
       "    <tr>\n",
       "      <th>4</th>\n",
       "      <td>A</td>\n",
       "      <td>2021-01-06</td>\n",
       "      <td>6606</td>\n",
       "      <td>764</td>\n",
       "      <td>63410000</td>\n",
       "      <td>0.115652</td>\n",
       "      <td>82997.382199</td>\n",
       "      <td>29055</td>\n",
       "      <td>3460</td>\n",
       "      <td>283620000</td>\n",
       "    </tr>\n",
       "  </tbody>\n",
       "</table>\n",
       "</div>"
      ],
      "text/plain": [
       "  group        date  count_visits  count_purchases  sum_price  day_conv  \\\n",
       "0     A  2021-01-02          2854              359   29410000  0.125788   \n",
       "1     A  2021-01-03          6596              748   62000000  0.113402   \n",
       "2     A  2021-01-04          6566              799   64250000  0.121687   \n",
       "3     A  2021-01-05          6433              790   64550000  0.122804   \n",
       "4     A  2021-01-06          6606              764   63410000  0.115652   \n",
       "\n",
       "   day_mean_check  cum_users_count  cum_purchase_count  cum_price_count  \n",
       "0    81922.005571             2854                 359         29410000  \n",
       "1    82887.700535             9450                1107         91410000  \n",
       "2    80413.016270            16016                1906        155660000  \n",
       "3    81708.860759            22449                2696        220210000  \n",
       "4    82997.382199            29055                3460        283620000  "
      ]
     },
     "metadata": {},
     "output_type": "display_data"
    }
   ],
   "source": [
    "# вычисляем кумулятивное количество посещений страницы\n",
    "updated_data['cum_users_count'] = updated_data.groupby(['group'])['count_visits'].cumsum()\n",
    "# вычисляем кумулятивное количество покупок\n",
    "updated_data['cum_purchase_count'] = updated_data.groupby(['group'])['count_purchases'].cumsum()\n",
    "# вычисляем кумулятивную сумму покупок\n",
    "updated_data['cum_price_count'] = updated_data.groupby(['group'])['sum_price'].cumsum()\n",
    "display(updated_data.head())"
   ]
  },
  {
   "cell_type": "code",
   "execution_count": 55,
   "id": "2a33ebac",
   "metadata": {},
   "outputs": [],
   "source": [
    "#вычисляем кумулятивную конверсию и кумулятивный средний чек на основе полученных кумулятивных показателей\n",
    "#считаем кумулятивную конверсию \n",
    "updated_data['cum_conv'] = updated_data['cum_purchase_count']/updated_data['cum_users_count']*100\n",
    "#считаем кумулятивный средний чек\n",
    "updated_data['cum_mean_check'] = updated_data['cum_price_count']/updated_data['cum_purchase_count']"
   ]
  },
  {
   "cell_type": "code",
   "execution_count": 59,
   "id": "27e23d20-7ed6-4a26-973d-6d0320b81adb",
   "metadata": {},
   "outputs": [
    {
     "data": {
      "image/png": "[encoded data removed]",
      "text/plain": [
       "<Figure size 576x288 with 1 Axes>"
      ]
     },
     "metadata": {
      "needs_background": "light"
     },
     "output_type": "display_data"
    }
   ],
   "source": [
    "#cтроим кумулятивный график конверсии в каждой группе по дням\n",
    "#создаём фигуру размером 8x4\n",
    "fig = plt.figure(figsize=(8, 4))\n",
    "#добавляем систему координат\n",
    "ax = fig.add_axes([1, 1, 1, 1])\n",
    "#строим lineplot для кумулятивной конверсии во времени в каждой группе\n",
    "sns.lineplot(x='date', y='cum_conv', data=updated_data, hue='group', ax=ax)\n",
    "#задаём подпись к графику\n",
    "ax.set_title('График кумулятивной конверсии по дням')\n",
    "#задаём поворот меток на оси абсцисс\n",
    "ax.xaxis.set_tick_params(rotation = 45)\n",
    "#задаём отображение сетки\n",
    "ax.grid(True);"
   ]
  },
  {
   "cell_type": "code",
   "execution_count": 58,
   "id": "af82ec93",
   "metadata": {},
   "outputs": [
    {
     "data": {
      "image/png": "[encoded data removed]",
      "text/plain": [
       "<Figure size 576x288 with 1 Axes>"
      ]
     },
     "metadata": {
      "needs_background": "light"
     },
     "output_type": "display_data"
    }
   ],
   "source": [
    "#cтроим кумулятивный график среднего чека в каждой группе по дням\n",
    "# создаём фигуру размером 8x4\n",
    "fig = plt.figure(figsize=(8, 4))\n",
    "# добавляем систему координат\n",
    "ax = fig.add_axes([1, 1, 1, 1])\n",
    "# строим lineplot для кумулятивного среднего чека во времени в каждой группе\n",
    "sns.lineplot(x='date', y='cum_mean_check', data=updated_data, hue='group', ax=ax)\n",
    "# задаём подпись к графику\n",
    "ax.set_title('График кумулятивного среднего чека по дням')\n",
    "# задаём поворот меток на оси абсцисс\n",
    "ax.xaxis.set_tick_params(rotation = 45)\n",
    "# задаём отображение сетки\n",
    "ax.grid(True);"
   ]
  },
  {
   "cell_type": "markdown",
   "id": "f645f8e5-ad16-4b3b-8228-fbdeeb286833",
   "metadata": {},
   "source": [
    "Вывод: А/В тестирование можно считать завершенным, т.к. на графиках прекратились резкие пики и спады показателей, и линии постепенно выравнялись в горизонтальную прямую.   \n",
    "Кумулятивная конверсия в конце исследования выше в группе А, а показатель кумулятивного среднего чека выше в группе В. "
   ]
  },
  {
   "cell_type": "markdown",
   "id": "2ecaa382-56e2-47f4-b086-24b4742570a3",
   "metadata": {
    "tags": []
   },
   "source": [
    "## **Проверка статистической значимости разницы между метриками**"
   ]
  },
  {
   "cell_type": "markdown",
   "id": "12ecd312",
   "metadata": {},
   "source": [
    "### **Показатели конверсии в группах**\n",
    "Для проверки гипотезы о равенстве конверсий в группах применим Z-тест для пропорций.   \n",
    "Т.к.выборка более 30 элементов, типы переменных количественные и сравниваются 2 группы показателей."
   ]
  },
  {
   "cell_type": "code",
   "execution_count": 60,
   "id": "892a34f0",
   "metadata": {},
   "outputs": [],
   "source": [
    "#импортируем библиотеку для z-теста\n",
    "from statsmodels.stats.proportion import proportions_ztest"
   ]
  },
  {
   "cell_type": "code",
   "execution_count": 61,
   "id": "bd56f57d",
   "metadata": {},
   "outputs": [
    {
     "data": {
      "text/html": [
       "<div>\n",
       "<style scoped>\n",
       "    .dataframe tbody tr th:only-of-type {\n",
       "        vertical-align: middle;\n",
       "    }\n",
       "\n",
       "    .dataframe tbody tr th {\n",
       "        vertical-align: top;\n",
       "    }\n",
       "\n",
       "    .dataframe thead th {\n",
       "        text-align: right;\n",
       "    }\n",
       "</style>\n",
       "<table border=\"1\" class=\"dataframe\">\n",
       "  <thead>\n",
       "    <tr style=\"text-align: right;\">\n",
       "      <th></th>\n",
       "      <th>sum</th>\n",
       "      <th>count</th>\n",
       "    </tr>\n",
       "    <tr>\n",
       "      <th>group</th>\n",
       "      <th></th>\n",
       "      <th></th>\n",
       "    </tr>\n",
       "  </thead>\n",
       "  <tbody>\n",
       "    <tr>\n",
       "      <th>A</th>\n",
       "      <td>17723</td>\n",
       "      <td>147202</td>\n",
       "    </tr>\n",
       "    <tr>\n",
       "      <th>B</th>\n",
       "      <td>17514</td>\n",
       "      <td>147276</td>\n",
       "    </tr>\n",
       "  </tbody>\n",
       "</table>\n",
       "</div>"
      ],
      "text/plain": [
       "         sum   count\n",
       "group               \n",
       "A      17723  147202\n",
       "B      17514  147276"
      ]
     },
     "metadata": {},
     "output_type": "display_data"
    }
   ],
   "source": [
    "# Сгруппируем данные по признаку группы и рассчитаем количество «успехов» \n",
    "# (сумма по столбцу converted) и общее количество наблюдений \n",
    "# (количество непустых значений в столбце converted) для каждой группы.\n",
    "converted_piv= data.groupby('group', as_index = False)['purchase'].agg(\n",
    "    ['sum', 'count']\n",
    ")\n",
    "display(converted_piv)\n"
   ]
  },
  {
   "cell_type": "code",
   "execution_count": 372,
   "id": "9dd1f6fd-2fa0-4a2f-8181-dbed4c302bce",
   "metadata": {},
   "outputs": [
    {
     "name": "stdout",
     "output_type": "stream",
     "text": [
      "p-value:  0.11\n",
      "Принимаем нулевую гипотезу. Конверсии в группах А и B равны\n"
     ]
    }
   ],
   "source": [
    "# нулевая и альтернативная гипотезы\n",
    "H0 = 'Конверсии в группах А и B равны'\n",
    "H1 = 'Конверсия в группе А выше, чем конверсия в группе B'\n",
    "alpha = 0.05 # уровень значимости\n",
    "# вычисляем значение p-value для z-теста для пропорций\n",
    "_, p_value = proportions_ztest(\n",
    "    count=converted_piv['sum'], #число \"успехов\"\n",
    "    nobs=converted_piv['count'], #общее число наблюдений\n",
    "    alternative='larger',\n",
    ")\n",
    "# выводим результат на экран\n",
    "print('p-value: ', round(p_value, 2))\n",
    "# сравниваем полученное p-value с уровнем значимости\n",
    "if (p_value < alpha): \n",
    "    print(\"Отвергаем нулевую гипотезу. {}\".format(H0))\n",
    "    print(\"Альтернативная гипотеза. H1: {}\".format(H1))\n",
    "else:\n",
    "    print(\"Принимаем нулевую гипотезу. {}\".format(H0))\n"
   ]
  },
  {
   "cell_type": "markdown",
   "id": "75dddb06-389d-4d65-92c7-425efa28e51a",
   "metadata": {},
   "source": [
    "Вывод: По результатам проведенного теста статистической разницы между конверсиями в группах А и В нет."
   ]
  },
  {
   "cell_type": "markdown",
   "id": "32c5a1af-8cb2-4f3c-a126-410b70fb3ff3",
   "metadata": {
    "tags": []
   },
   "source": [
    "### **Проверка доверительного интервала для показателей конверсии**\n",
    "Убедимся в своих рассуждениях, построив 95%-ый доверительный интервал для конверсий и разницы между ними.   \n",
    "Используем $z_{крит}$ в своих расчетах, т.к. размер выборки больше 30 наблюдений"
   ]
  },
  {
   "cell_type": "code",
   "execution_count": 373,
   "id": "e9decb7d-ff5e-40a6-8b71-63627c4ef64a",
   "metadata": {},
   "outputs": [],
   "source": [
    "#импортируем библиотеку для расчёта z критического\n",
    "from scipy.stats import norm\n",
    "#рассчитаем z критическое\n",
    "z_crit = -norm.ppf(alpha/2)"
   ]
  },
  {
   "cell_type": "code",
   "execution_count": 374,
   "id": "6b171205",
   "metadata": {},
   "outputs": [],
   "source": [
    "#фильтруем данные группы А\n",
    "a_data = updated_data[updated_data['group'] == 'A']\n",
    "#фильтруем данные группы B\n",
    "b_data = updated_data[updated_data['group'] == 'B']"
   ]
  },
  {
   "cell_type": "code",
   "execution_count": 377,
   "id": "74d5d050",
   "metadata": {},
   "outputs": [],
   "source": [
    "def proportions_conf_interval(n, x_p, gamma=0.95): \n",
    "    \"\"\"Функция вычисляет доверительный интервал\n",
    "\n",
    "    Args:\n",
    "        n (int): размер выборки\n",
    "        x_p (float): выборочная пропорция(долю совершивших конверсию пользователей, то есть выборочная конверсия)\n",
    "        gamma (float, int):  уровень надёжности (по умолчанию 0.95)\n",
    "\n",
    "    Returns:\n",
    "      Кортеж из умноженных на 100 и округлённых до 2 го знака границ доверительного интервала\n",
    "    \"\"\"\n",
    "    alpha = 1 - gamma # уровень значимости\n",
    "    z_crit = -norm.ppf(alpha/2) # z критическое\n",
    "    eps = z_crit * (x_p * (1 - x_p) / n) ** 0.5 #погрешность\n",
    "    lower_bound = x_p - eps # левая (нижняя) граница\n",
    "    upper_bound = x_p + eps # правая (верхняя) граница\n",
    "    return round(lower_bound * 100, 2), round(upper_bound * 100, 2)"
   ]
  },
  {
   "cell_type": "code",
   "execution_count": 378,
   "id": "9f2430db",
   "metadata": {},
   "outputs": [
    {
     "name": "stdout",
     "output_type": "stream",
     "text": [
      "Доверительный интервал для конверсии группы А: (11.88, 12.21)\n",
      "Доверительный интервал для конверсии группы B: (11.73, 12.06)\n"
     ]
    }
   ],
   "source": [
    "conf_interval_a = proportions_conf_interval(\n",
    "n=a_data['count_visits'].sum(), # размер выборки\n",
    "x_p=a_data['day_conv'].mean() # выборочная пропорция\n",
    ")\n",
    "conf_interval_b = proportions_conf_interval(\n",
    "n=b_data['count_visits'].sum(), # размер выборки\n",
    "x_p=b_data['day_conv'].mean() # выборочная пропорция\n",
    ")\n",
    "print('Доверительный интервал для конверсии группы А: {}'.format(conf_interval_a))\n",
    "print('Доверительный интервал для конверсии группы B: {}'.format(conf_interval_b))"
   ]
  },
  {
   "cell_type": "markdown",
   "id": "2d9e0a3b",
   "metadata": {},
   "source": [
    "### **Доверительные интервалы разницы конверсий в группах**  \n",
    "\n",
    "- Проинтерпретируем построенные доверительные интервалы для конверсий в группах.     \n",
    "- Проанализируем, есть ли перекрытие между доверительными интервалами для групп \n",
    "- Проанализируем, есть ли статистическая разница между конверсиями в группах А и B."
   ]
  },
  {
   "cell_type": "code",
   "execution_count": 379,
   "id": "a0048fd4",
   "metadata": {},
   "outputs": [],
   "source": [
    "def diff_proportions_conf_interval(n, xp, gamma=0.95):\n",
    "    \"\"\"Вычисление границ доверительного интервала разницы конверсий\n",
    "\n",
    "    Args:\n",
    "        n (list): список из размеров выборки для групп А и B соответственно\n",
    "        xp (list): список из выборочных пропорций для групп А и B соответственно\n",
    "        gamma (float, optional): уровень надёжности (по умолчанию он равен 0.95)\n",
    "\n",
    "    Returns:\n",
    "        tuple:Кортеж из вычисленных границ доверительного интервала разницы конверсий,\n",
    "               умноженных на 100 % и округлённых до второго знака после запятой.\n",
    "    \"\"\"\n",
    "    alpha = 1 - gamma # уровень значимости\n",
    "    diff = xp[1] - xp[0] # выборочная разница конверсий групп B и A\n",
    "    z_crit = -norm.ppf(alpha/2) # z критическое\n",
    "    eps = z_crit * (xp[0] * (1 - xp[0])/n[0] + xp[1] * (1 - xp[1])/n[1]) ** 0.5 # погрешность\n",
    "    lower_bound = diff - eps # левая (нижняя) граница\n",
    "    upper_bound = diff + eps # правая (верхняя) граница\n",
    "    # возвращаем кортеж из округлённых границ интервала\n",
    "    return round(lower_bound *100, 2), round(upper_bound * 100, 2)"
   ]
  },
  {
   "cell_type": "code",
   "execution_count": 380,
   "id": "8bb05e57",
   "metadata": {},
   "outputs": [
    {
     "name": "stdout",
     "output_type": "stream",
     "text": [
      "Доверительный интервал для разности конверсий: (-0.38, 0.09)\n"
     ]
    }
   ],
   "source": [
    "# размеры выборок групп А и B\n",
    "n = [a_data['count_visits'].sum(), b_data['count_visits'].sum()]\n",
    "# выборочная пропорция групп A и B\n",
    "xp = [a_data['day_conv'].mean(), b_data['day_conv'].mean()]\n",
    "# строим доверительный интервал для разности конверсий\n",
    "diff_inverval = diff_proportions_conf_interval(n, xp)\n",
    "print('Доверительный интервал для разности конверсий: {}'.format(diff_inverval))"
   ]
  },
  {
   "cell_type": "markdown",
   "id": "3ca03b57",
   "metadata": {},
   "source": [
    "Вывод: Между доверительными интервалами для групп А и В есть есть перекрытие.   \n",
    "То есть мы не можем однозначно сказать, есть ли статистическая разница в конверсиях.   \n",
    "Поэтому строим доверительный интервал разницы конверсий.  \n",
    "Левая граница доверительного интервала отрицательная, а правая — положительная.   \n",
    "То есть истинная разница в конверсии может быть как положительной, так и отрицательной.   \n",
    "Тогда это будет значить, что варианты А и B равнозначны по метрике конверсии.  \n",
    "Построенный доверительный интервал с 95 %-ой надёжностью говорит нам, что разница в конверсии между вариантом B и вариантом А лежит в интервале от -0.39 % до 0.08 %.   \n",
    "То есть разница в конверсии с 95 %-ой надёжностью может быть как положительной, так и отрицательной.   \n",
    "Мы имеем дело с третьим случаем — интервал охватывает точку 0.  \n",
    "Отсюда можно сделать вывод, что статистической разницы в конверсии между вариантами А и B не существует, то есть они являются равнозначными по данной метрике."
   ]
  },
  {
   "cell_type": "markdown",
   "id": "23d64dc6",
   "metadata": {},
   "source": [
    "### **Показатели среднего чека в группах**"
   ]
  },
  {
   "cell_type": "markdown",
   "id": "73c54883-b919-4889-bbf2-e1bdeb0b7055",
   "metadata": {},
   "source": [
    "## **Оценим нормальность распределения ежедневного среднего чека**\n",
    "\n",
    "Для проверки гипотезы о нормальности распределения ежедневного среднего чека применим тест Шапиро-Уилка"
   ]
  },
  {
   "cell_type": "code",
   "execution_count": 381,
   "id": "a7139f24",
   "metadata": {},
   "outputs": [
    {
     "name": "stdout",
     "output_type": "stream",
     "text": [
      "p-value группы А 0.25\n",
      "p-value группы B 0.09\n",
      "Принимаем нулевую гипотезу. Распределения в обеих группах нормальные\n"
     ]
    }
   ],
   "source": [
    "from scipy.stats import shapiro\n",
    "# нулевая и альтернативная гипотезы\n",
    "H0 = 'Распределения в обеих группах нормальные'\n",
    "H1 = 'Распределение в одной или обеих группах отлично от нормального'\n",
    "alpha = 0.05 # уровень значимости\n",
    "# вычисляем результат теста Шапиро-Уилка для выборок\n",
    "shapiro_result_a = shapiro(updated_data[updated_data['group'] == 'A']['day_mean_check'])\n",
    "shapiro_result_b = shapiro(updated_data[updated_data['group'] == 'B']['day_mean_check'])\n",
    "print('p-value группы А', round(shapiro_result_a.pvalue, 2))\n",
    "print('p-value группы B', round(shapiro_result_b.pvalue, 2))\n",
    "# сравниваем полученное p-value с уровнем значимости\n",
    "if shapiro_result_a.pvalue < alpha or shapiro_result_b.pvalue < alpha:\n",
    "    print(\"Отвергаем нулевую гипотезу. {}\".format(H0))\n",
    "    print(\"Альтернативная гипотеза. H1: {}\".format(H1))\n",
    "else:\n",
    "    print(\"Принимаем нулевую гипотезу. {}\".format(H0))\n"
   ]
  },
  {
   "cell_type": "markdown",
   "id": "cbddecf9-4d15-4ff1-84e9-46c4d98fc1e0",
   "metadata": {
    "tags": []
   },
   "source": [
    "## **Задание 7.13.**\n",
    "Настало время сравнить варианты дизайна страницы по метрике среднего чека. \n",
    "\n",
    "Какой тест вы примените для проверки гипотезы о равенстве средних чеков по дням в группах? \n",
    "Проведите тестирование при следующих нулевой и альтернативной гипотезе:\n",
    "* $H_0$: Ежедневные средние чеки в группах А и B равны; \n",
    "* $H_1$: Ежедневный средний чек в группе А меньше чем в группе B;\n",
    "\n",
    "Вычислите p-value вашего теста для ежедневного среднего чека в группах А и B. Сравните полученное значение p-value с уровнем значимости $\\alpha$ =0.05. "
   ]
  },
  {
   "cell_type": "markdown",
   "id": "3ce45eb1",
   "metadata": {},
   "source": [
    "Ответ: Для проверки гипотезы о равенстве средних чеков по дням в группах применим Т-тест."
   ]
  },
  {
   "cell_type": "code",
   "execution_count": 382,
   "id": "05d43f23-2c2d-4795-bb96-1ffbfe81c391",
   "metadata": {},
   "outputs": [
    {
     "name": "stdout",
     "output_type": "stream",
     "text": [
      "p-value: 0.0\n",
      "Отвергаем нулевую гипотезу. Ежедневные средние чеки в группах А и B равны\n",
      "Альтернативная гипотеза. H1: Ежедневный средний чек в группе А меньше, чем в группе B\n"
     ]
    }
   ],
   "source": [
    "from scipy.stats import ttest_ind\n",
    "# нулевая и альтернативная гипотезы\n",
    "H0 = 'Ежедневные средние чеки в группах А и B равны'\n",
    "H1 = 'Ежедневный средний чек в группе А меньше, чем в группе B'\n",
    "alpha = 0.05 #уровень значимости\n",
    "#вычисляем результат T-теста для выборок\n",
    "results = ttest_ind(\n",
    "    a=updated_data[updated_data['group'] == 'A']['day_mean_check'],\n",
    "    b=updated_data[updated_data['group'] == 'B']['day_mean_check'], \n",
    "    alternative='less' #Левосторонняя альтернативная гипотеза в модуле scipy указывается в параметре alternative как 'less' \n",
    ")\n",
    "print('p-value:', round(results.pvalue, 2))\n",
    " \n",
    "if results.pvalue < alpha:\n",
    "    print(\"Отвергаем нулевую гипотезу. {}\".format(H0))\n",
    "    print(\"Альтернативная гипотеза. H1: {}\".format(H1))\n",
    "else:\n",
    "    print(\"Принимаем нулевую гипотезу. {}\".format(H0))"
   ]
  },
  {
   "cell_type": "markdown",
   "id": "8534ab25-68b8-48f7-b2c1-ef1b72d8a767",
   "metadata": {},
   "source": [
    " Приведите свои выводы по проведенному статистическому тесту. Есть ли статистическая разница между ежедневными средними чеками в группах А и B?"
   ]
  },
  {
   "cell_type": "markdown",
   "id": "d8258dfd-14e7-4af4-bc6c-19ea8932eab5",
   "metadata": {},
   "source": [
    "Ответ: Исходя из проведенного статистического Т-теста есть статистически значимая разница между ежедневными средними чеками в группах А и B.\n",
    "Ежедневный средний чек в группе А меньше, чем в группе B"
   ]
  },
  {
   "cell_type": "markdown",
   "id": "5e46c9a6-a943-48b4-ad72-935337469613",
   "metadata": {
    "tags": []
   },
   "source": [
    "## **Задание 7.14.**\n",
    "\n",
    "Постройте 95%-ый доверительный интервал для среднего чека в каждой группе. Так как выборка средних чеков небольшая, используйте  $t_{крит}$ в своих расчетах.\n",
    "\n",
    "Укажите нижнюю границу доверительного интервала для истинного среднего чека каждой из групп. Ответ приведите в процентах и округлите до целого."
   ]
  },
  {
   "cell_type": "code",
   "execution_count": 383,
   "id": "6cc607cc",
   "metadata": {},
   "outputs": [],
   "source": [
    "from scipy.stats import t\n",
    "t_crit = -t.ppf(alpha/2, k) # t-критическое"
   ]
  },
  {
   "cell_type": "code",
   "execution_count": 384,
   "id": "480430db-ffae-4aad-8e22-f5c70d4800b8",
   "metadata": {},
   "outputs": [],
   "source": [
    "n_a = a_data['count_visits'].count() # размер выборки\n",
    "k = n_a - 1 # число степеней свободы\n",
    "x_mean_a = a_data['day_mean_check'].mean() # выборочное среднее\n",
    "x_std_a = a_data['day_mean_check'].describe()['std'] # выборочное стандартное отклонение\n",
    "gamma = 0.95 # уровень надёжности\n",
    "alpha = 1 - gamma # уровень значимости"
   ]
  },
  {
   "cell_type": "code",
   "execution_count": 387,
   "id": "b7580493",
   "metadata": {},
   "outputs": [
    {
     "name": "stdout",
     "output_type": "stream",
     "text": [
      "Доверительный интервал A: (79630, 82308)\n"
     ]
    }
   ],
   "source": [
    "t_crit = -t.ppf(alpha/2, k) # t-критическое\n",
    "\n",
    "eps = t_crit * x_std_a/(n_a ** 0.5) # погрешность\n",
    "lower_bound = x_mean_a - eps # левая (нижняя) граница\n",
    "upper_bound = x_mean_a + eps # правая (верхняя) граница\n",
    "confidence_interval = (round(lower_bound), round(upper_bound)) # создаём кортеж из округлённых границ интервала\n",
    "print('Доверительный интервал A: {}'.format(confidence_interval)) # выводим результат"
   ]
  },
  {
   "cell_type": "code",
   "execution_count": 389,
   "id": "7cf7bd61",
   "metadata": {},
   "outputs": [],
   "source": [
    "n_b = b_data['count_visits'].count() # размер выборки\n",
    "k = n_b - 1 # число степеней свободы\n",
    "x_mean_b = b_data['day_mean_check'].mean() # выборочное среднее\n",
    "x_std_b = b_data['day_mean_check'].describe()['std'] # выборочное стандартное отклонение\n",
    "gamma = 0.95 # уровень надёжности\n",
    "alpha = 1 - gamma # уровень значимости"
   ]
  },
  {
   "cell_type": "code",
   "execution_count": 390,
   "id": "d9e7cf7a",
   "metadata": {},
   "outputs": [
    {
     "name": "stdout",
     "output_type": "stream",
     "text": [
      "Доверительный интервал B: (87626, 89526)\n"
     ]
    }
   ],
   "source": [
    "t_crit = -t.ppf(alpha/2, k) # t-критическое\n",
    "eps = t_crit * x_std_b/(n_b ** 0.5) # погрешность\n",
    "lower_bound = x_mean_b - eps # левая (нижняя) граница\n",
    "upper_bound = x_mean_b + eps # правая (верхняя) граница\n",
    "confidence_interval = (round(lower_bound), round(upper_bound)) # создаём кортеж из округлённых границ интервала\n",
    "print('Доверительный интервал B: {}'.format(confidence_interval)) # выводим результат"
   ]
  },
  {
   "cell_type": "markdown",
   "id": "74a78db8-48f7-41d2-94cb-faefb30b8f76",
   "metadata": {},
   "source": [
    "Проинтерпретируйте построенные доверительные интервалы для ежедневных средних чеков в группах. Есть ли между ними пересечения?"
   ]
  },
  {
   "cell_type": "markdown",
   "id": "3c300fd4",
   "metadata": {},
   "source": [
    "Ответ: Между доверительными интервалами для групп А и В нет пересечения.\n",
    "Отсюда можно сделать вывод, что существует статистическая разница в ежедневном среднем чеке между вариантами А и В.\n"
   ]
  },
  {
   "cell_type": "markdown",
   "id": "c078852f-892f-42ed-8d78-73edf8eb1f5e",
   "metadata": {
    "tags": []
   },
   "source": [
    "## **Сделайте общий вывод по результатам A/B-теста**\n",
    "\n",
    "Какой варианта дизайна посадочной страницы является более эффективным в комплексе по метрикам конверсии и среднего чека и почему? "
   ]
  },
  {
   "cell_type": "markdown",
   "id": "9f292732",
   "metadata": {},
   "source": [
    "Ответ: По метрике среднего чека можно сделать вывод, что вариант дизайна посадочной страницы 'B' более предпочтительный, т.к. существует статистически значимая разница в данном показателе между вариантом А и В.  \n",
    "По метрике конверсии вывода о предпочтительности того или иного дизайна сделать нельзя, т.к. не существует статистически значимой разницы между вариантами А и В.\n"
   ]
  }
 ],
 "metadata": {
  "kernelspec": {
   "display_name": "Python 3.9.7 ('base')",
   "language": "python",
   "name": "python3"
  },
  "language_info": {
   "codemirror_mode": {
    "name": "ipython",
    "version": 3
   },
   "file_extension": ".py",
   "mimetype": "text/x-python",
   "name": "python",
   "nbconvert_exporter": "python",
   "pygments_lexer": "ipython3",
   "version": "3.9.7"
  },
  "vscode": {
   "interpreter": {
    "hash": "1448b48b023bcc9c3d4a79e814720a10ca6d4244f75e0f7ce4af58f96ba2b7d3"
   }
  }
 },
 "nbformat": 4,
 "nbformat_minor": 5
}
